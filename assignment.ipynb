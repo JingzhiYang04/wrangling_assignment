{
  "cells": [
    {
      "cell_type": "markdown",
      "id": "13ad028b-72b7-43ed-aa78-96fd4e518040",
      "metadata": {
        "id": "13ad028b-72b7-43ed-aa78-96fd4e518040"
      },
      "source": [
        "# Assignment: Data Wrangling\n",
        "### `! git clone https://github.com/ds3001f25/wrangling_assignment.git`\n",
        "### Do Q1 and Q2\n",
        "### Reading material: `tidy_data.pdf`"
      ]
    },
    {
      "cell_type": "markdown",
      "id": "da879ea7-8aac-48a3-b6c2-daea56d2e072",
      "metadata": {
        "id": "da879ea7-8aac-48a3-b6c2-daea56d2e072"
      },
      "source": [
        "**Q1.** This question provides some practice cleaning variables which have common problems.\n",
        "1. Numeric variable: For `./data/airbnb_hw.csv`, clean the `Price` variable as well as you can, and explain the choices you make. How many missing values do you end up with? (Hint: What happens to the formatting when a price goes over 999 dollars, say from 675 to 1,112?)\n",
        "2. Categorical variable: For the Minnesota police use of for data, `./data/mn_police_use_of_force.csv`, clean the `subject_injury` variable, handling the NA's; this gives a value `Yes` when a person was injured by police, and `No` when no injury occurred. What proportion of the values are missing? Is this a concern? Cross-tabulate your cleaned `subject_injury` variable with the `force_type` variable. Are there any patterns regarding when the data are missing?\n",
        "3. Dummy variable: For the pretrial data covered in the lecture `./data/justice_data.parquet`, clean the `WhetherDefendantWasReleasedPretrial` variable as well as you can, and, in particular, replace missing values with `np.nan`.\n",
        "4. Missing values, not at random: For the pretrial data covered in the lecture, clean the `ImposedSentenceAllChargeInContactEvent` variable as well as you can, and explain the choices you make. (Hint: Look at the `SentenceTypeAllChargesAtConvictionInContactEvent` variable.)"
      ]
    },
    {
      "cell_type": "code",
      "execution_count": 52,
      "id": "9d412a8d",
      "metadata": {
        "colab": {
          "base_uri": "https://localhost:8080/"
        },
        "id": "9d412a8d",
        "outputId": "9e9b4a82-9f5a-4efa-f82f-dac5e9815e9e"
      },
      "outputs": [
        {
          "output_type": "stream",
          "name": "stdout",
          "text": [
            "Airbnb Price cleaning\n",
            "Total Rows: 30478\n",
            "Missing after cleaning: 0 (0.00%)\n",
            "\n",
            "I cleaned the Price column by converting all non-numeric characters to a numeric type and having 0 missing values.\n"
          ]
        }
      ],
      "source": [
        "import pandas as pd\n",
        "\n",
        "# Load Airbnb dataset\n",
        "airbnb = pd.read_csv(\"/content/airbnb_hw.csv\")\n",
        "\n",
        "# Clean the Price column so it contains only numeric characters and a decimal point\n",
        "airbnb[\"Price_column\"] = (airbnb[\"Price\"].astype(str).str.replace(r\"[^0-9.]\", \"\", regex=True)\n",
        ")\n",
        "\n",
        "# Convert Price to numeric\n",
        "airbnb[\"Price_numeric\"] = pd.to_numeric(airbnb[\"Price_column\"], errors=\"coerce\")\n",
        "\n",
        "# Summarize missingness\n",
        "airbnb_total = len(airbnb)\n",
        "airbnb_missing = airbnb[\"Price_numeric\"].isna().sum()\n",
        "airbnb_missing_ratio = airbnb_missing / airbnb_total * 100\n",
        "\n",
        "print(\"Airbnb Price cleaning\")\n",
        "print(f\"Total Rows: {airbnb_total}\")\n",
        "print(f\"Missing after cleaning: {airbnb_missing} ({airbnb_missing_ratio:.2f}%)\\n\")\n",
        "print(\"I cleaned the Price column by converting all non-numeric characters to a numeric type and having 0 missing values.\")"
      ]
    },
    {
      "cell_type": "code",
      "source": [
        "import pandas as pd\n",
        "import numpy as np\n",
        "\n",
        "# Load MN police use of force data\n",
        "uof = pd.read_csv(\"/content/mn_police_use_of_force.csv\", low_memory=False)\n",
        "\n",
        "# Clean the subject_injury variable, handling the NA's\n",
        "uof[\"subject_injury_copy\"] = uof[\"subject_injury\"] # Make a copy of the subject_injury field\n",
        "missing_proportion = uof[\"subject_injury_copy\"].isna().mean() # Check the proportion of the values are missing\n",
        "print(f\"Missing ratio: {missing_proportion:.2%}\") # Print that proportion as a percentage\n",
        "print(\"It is a serious concern because the ratio is high and it suggests potential biases.\")\n",
        "\n",
        "# Check if missingness is systematic by force_type\n",
        "uof[\"force_type_copy\"] = (uof[\"force_type\"].astype(str).str.strip().str.lower().replace({\"nan\": np.nan}))\n",
        "\n",
        "top_force = uof[\"force_type_copy\"].value_counts().head(10).index.tolist()\n",
        "missing_by_force = (\n",
        "    uof.assign(missing=uof[\"subject_injury_copy\"].isna())\n",
        "       .loc[uof[\"force_type_copy\"].isin(top_force)]\n",
        "       .groupby(\"force_type_copy\")[\"missing\"]\n",
        "       .mean()\n",
        "       .sort_values(ascending=False)\n",
        ")\n",
        "print(\"\\nMissing ratio by top force_type:\")\n",
        "print(missing_by_force)\n",
        "print(\"Force types like maximal restraint technique and less lethal always had missing injury records. Less lethal projectile had no missing values.\")\n",
        "\n",
        "# Impute missing subject_injury\n",
        "uof[\"subject_injury_imputed\"] = uof[\"subject_injury_copy\"].fillna(\"No\") # Replace NA with No\n",
        "\n",
        "# Check after imputation\n",
        "before = uof[\"subject_injury_imputed\"].isna().mean()\n",
        "after = uof[\"subject_injury_imputed\"].value_counts(normalize=True)\n",
        "print(\"\\nMissing ratio after:\", f\"{post_missing:.2%}\")\n",
        "print(\"\\nDistribution after:\")\n",
        "print(dist_after)\n",
        "\n",
        "# Cross-tabulate the cleaned subject_injury variable with the force_type variable\n",
        "ct = pd.crosstab(\n",
        "    uof[\"force_type_copy\"],\n",
        "    uof[\"subject_injury_imputed\"],\n",
        "    normalize=\"index\"\n",
        ").round(3).sort_values(by=\"Yes\", ascending=False)\n",
        "\n",
        "print(\"\\nCross-tabulate the cleaned subject_injury variable with the force_type variable:\")\n",
        "print(ct.head(15))\n",
        "print(\"Injury data were still mostly missing for certain force types, like firearms, less lethal, and maximal restraint technique. It shows that missingness is not random.\")"
      ],
      "metadata": {
        "colab": {
          "base_uri": "https://localhost:8080/"
        },
        "id": "CLaguCopypnA",
        "outputId": "14297a5a-88e5-4b61-d3d9-cc054ed5dc15"
      },
      "id": "CLaguCopypnA",
      "execution_count": 82,
      "outputs": [
        {
          "output_type": "stream",
          "name": "stdout",
          "text": [
            "Missing ratio: 76.19%\n",
            "It is a serious concern because the ratio is high and it suggests potential biases.\n",
            "\n",
            "Missing ratio by top force_type:\n",
            "force_type_copy\n",
            "maximal restraint technique    1.000000\n",
            "less lethal                    1.000000\n",
            "chemical irritant              0.892028\n",
            "taser                          0.753634\n",
            "bodily force                   0.747720\n",
            "baton                          0.500000\n",
            "improvised weapon              0.500000\n",
            "police k9 bite                 0.402597\n",
            "gun point display              0.259615\n",
            "less lethal projectile         0.000000\n",
            "Name: missing, dtype: float64\n",
            "Force types like maximal restraint technique and less lethal always had missing injury records. Less lethal projectile had no missing values.\n",
            "\n",
            "Missing ratio after: 0.00%\n",
            "\n",
            "Distribution after:\n",
            "subject_injury_imputed\n",
            "No     0.87381\n",
            "Yes    0.12619\n",
            "Name: proportion, dtype: float64\n",
            "\n",
            "Cross-tabulate the cleaned subject_injury variable with the force_type variable:\n",
            "subject_injury_imputed          No    Yes\n",
            "force_type_copy                          \n",
            "less lethal projectile       0.333  0.667\n",
            "police k9 bite               0.429  0.571\n",
            "baton                        0.500  0.500\n",
            "gun point display            0.577  0.423\n",
            "improvised weapon            0.730  0.270\n",
            "bodily force                 0.864  0.136\n",
            "taser                        0.868  0.132\n",
            "chemical irritant            0.974  0.026\n",
            "firearm                      1.000  0.000\n",
            "less lethal                  1.000  0.000\n",
            "maximal restraint technique  1.000  0.000\n",
            "Injury data were still mostly missing for certain force types, like firearms, less lethal, and maximal restraint technique. It shows that missingness is not random.\n"
          ]
        }
      ]
    },
    {
      "cell_type": "code",
      "source": [
        "import pandas as pd\n",
        "import numpy as np\n",
        "\n",
        "# Load the Justice dataset\n",
        "justice_df = pd.read_parquet('/content/justice_data.parquet')\n",
        "\n",
        "# Clean the WhetherDefendantWasReleasedPretrial variable and replace missing values with np.nan\n",
        "justice_df['WhetherDefendantWasReleasedPretrial'] = justice_df['WhetherDefendantWasReleasedPretrial'].replace({None: np.nan})\n",
        "\n",
        "print(justice_df[['WhetherDefendantWasReleasedPretrial']].head())"
      ],
      "metadata": {
        "colab": {
          "base_uri": "https://localhost:8080/"
        },
        "id": "uMZjJ_zpKgxe",
        "outputId": "5bd96225-2cdf-4be7-f475-5ef36f8042a4"
      },
      "id": "uMZjJ_zpKgxe",
      "execution_count": 64,
      "outputs": [
        {
          "output_type": "stream",
          "name": "stdout",
          "text": [
            "   WhetherDefendantWasReleasedPretrial\n",
            "0                                    9\n",
            "1                                    0\n",
            "2                                    0\n",
            "3                                    0\n",
            "4                                    1\n"
          ]
        }
      ]
    },
    {
      "cell_type": "code",
      "source": [
        "# Clean the ImposedSentenceAllChargeInContactEvent variable\n",
        "for index, row in justice_df.iterrows():\n",
        "    if pd.isnull(row['SentenceTypeAllChargesAtConvictionInContactEvent']):\n",
        "        justice_df.at[index, 'ImposedSentenceAllChargeInContactEvent'] = np.nan #If 'SentenceTypeAllChargesAtConvictionInContactEvent' is missing, set it to NaN\n",
        "\n",
        "print(justice_df[['ImposedSentenceAllChargeInContactEvent']].head())\n",
        "print(\"I set missing imposed sentences to NaN whenever the sentence type was also missing.\")"
      ],
      "metadata": {
        "colab": {
          "base_uri": "https://localhost:8080/"
        },
        "id": "8f1p7YMeMGf8",
        "outputId": "d34ab745-4f26-4a3c-b8b9-b2c6e3aabbba"
      },
      "id": "8f1p7YMeMGf8",
      "execution_count": 53,
      "outputs": [
        {
          "output_type": "stream",
          "name": "stdout",
          "text": [
            "  ImposedSentenceAllChargeInContactEvent\n",
            "0                                       \n",
            "1                                     60\n",
            "2                                     12\n",
            "3                       .985626283367556\n",
            "4                                       \n",
            "I set missing imposed sentences to NaN whenever the sentence type was also missing.\n"
          ]
        }
      ]
    },
    {
      "cell_type": "markdown",
      "id": "5a60a44e",
      "metadata": {
        "id": "5a60a44e"
      },
      "source": [
        "**Q2.** Go to https://sharkattackfile.net/ and download their dataset on shark attacks (Hint: `GSAF5.xls`).\n",
        "\n",
        "1. Open the shark attack file using Pandas. It is probably not a csv file, so `read_csv` won't work.\n",
        "2. Drop any columns that do not contain data.\n",
        "3. Clean the year variable. Describe the range of values you see. Filter the rows to focus on attacks since 1940. Are attacks increasing, decreasing, or remaining constant over time?\n",
        "4. Clean the Age variable and make a histogram of the ages of the victims.\n",
        "5. What proportion of victims are male?\n",
        "6. Clean the `Type` variable so it only takes three values: Provoked and Unprovoked and Unknown. What proportion of attacks are unprovoked?\n",
        "7. Clean the `Fatal Y/N` variable so it only takes three values: Y, N, and Unknown.\n",
        "8. Are sharks more likely to launch unprovoked attacks on men or women? Is the attack more or less likely to be fatal when the attack is provoked or unprovoked? Is it more or less likely to be fatal when the victim is male or female? How do you feel about sharks?\n",
        "9. What proportion of attacks appear to be by white sharks? (Hint: `str.split()` makes a vector of text values into a list of lists, split by spaces.)"
      ]
    },
    {
      "cell_type": "code",
      "execution_count": 22,
      "id": "a3f03830",
      "metadata": {
        "colab": {
          "base_uri": "https://localhost:8080/"
        },
        "id": "a3f03830",
        "outputId": "0f474109-2981-41d6-902e-ed695117f71c"
      },
      "outputs": [
        {
          "output_type": "stream",
          "name": "stdout",
          "text": [
            "               Date    Year        Type      Country  \\\n",
            "0  16th August 2025  2025.0    Provoked          USA   \n",
            "1       18th August  2025.0  Unprovoked    Australia   \n",
            "2       17th August  2025.0  Unprovoked      Bahamas   \n",
            "3        7th August  2025.0  Unprovoked    Australia   \n",
            "4        1st August  2025.0  Unprovoked  Puerto Rico   \n",
            "\n",
            "                               State                             Location  \\\n",
            "0                            Florida               Cayo Costa Boca Grande   \n",
            "1                                NSW                       Cabarita Beach   \n",
            "2  Atlantic Ocean near Big Grand Cay  North of Grand Bahama near Freeport   \n",
            "3                                NSW                        Tathra Beach    \n",
            "4                           Carolina                       Carolina Beach   \n",
            "\n",
            "       Activity          Name Sex Age  ...                 Species   \\\n",
            "0       Fishing   Shawn Meuse   M   ?  ...  Lemon shark 1.8 m (6ft)   \n",
            "1       Surfing     Brad Ross   M   ?  ...  5m (16.5ft) Great White   \n",
            "2  Spearfishing    Not stated   M  63  ...             Undetermined   \n",
            "3       Surfing   Bowie Daley   M   9  ...    Suspected Great White   \n",
            "4        Wading  Eleonora Boi   F  39  ...             Undetermined   \n",
            "\n",
            "                                              Source  pdf href formula href  \\\n",
            "0  Johannes Marchand: Kevin McMurray Trackingshar...  NaN          NaN  NaN   \n",
            "1  Bob Myatt GSAF The Guardian: 9 News: ABS News:...  NaN          NaN  NaN   \n",
            "2  Ralph Collier GSAF and Kevin MCMurray Tracking...  NaN          NaN  NaN   \n",
            "3                                     Bob Myatt GSAF  NaN          NaN  NaN   \n",
            "4         Kevin McMurray Trackingsharks.com: NY Post  NaN          NaN  NaN   \n",
            "\n",
            "  Case Number Case Number.1 original order Unnamed: 21 Unnamed: 22  \n",
            "0         NaN           NaN            NaN         NaN         NaN  \n",
            "1         NaN           NaN            NaN         NaN         NaN  \n",
            "2         NaN           NaN            NaN         NaN         NaN  \n",
            "3         NaN           NaN            NaN         NaN         NaN  \n",
            "4         NaN           NaN            NaN         NaN         NaN  \n",
            "\n",
            "[5 rows x 23 columns]\n"
          ]
        }
      ],
      "source": [
        "import pandas as pd\n",
        "\n",
        "# Load the Shark Attack dataset\n",
        "shark_attack_df = pd.read_excel('/GSAF5.xls')\n",
        "print(shark_attack_df.head())"
      ]
    },
    {
      "cell_type": "code",
      "source": [
        "# Drop columns that do not contain data\n",
        "shark_attack_df.dropna(axis=1, how='all', inplace=True)\n",
        "print(shark_attack_df.head())"
      ],
      "metadata": {
        "colab": {
          "base_uri": "https://localhost:8080/"
        },
        "id": "S7iPH8HM1ReS",
        "outputId": "166f1755-1d1d-4870-e36d-58099aed95cf"
      },
      "id": "S7iPH8HM1ReS",
      "execution_count": 24,
      "outputs": [
        {
          "output_type": "stream",
          "name": "stdout",
          "text": [
            "               Date    Year        Type      Country  \\\n",
            "0  16th August 2025  2025.0    Provoked          USA   \n",
            "1       18th August  2025.0  Unprovoked    Australia   \n",
            "2       17th August  2025.0  Unprovoked      Bahamas   \n",
            "3        7th August  2025.0  Unprovoked    Australia   \n",
            "4        1st August  2025.0  Unprovoked  Puerto Rico   \n",
            "\n",
            "                               State                             Location  \\\n",
            "0                            Florida               Cayo Costa Boca Grande   \n",
            "1                                NSW                       Cabarita Beach   \n",
            "2  Atlantic Ocean near Big Grand Cay  North of Grand Bahama near Freeport   \n",
            "3                                NSW                        Tathra Beach    \n",
            "4                           Carolina                       Carolina Beach   \n",
            "\n",
            "       Activity          Name Sex Age  ...                 Species   \\\n",
            "0       Fishing   Shawn Meuse   M   ?  ...  Lemon shark 1.8 m (6ft)   \n",
            "1       Surfing     Brad Ross   M   ?  ...  5m (16.5ft) Great White   \n",
            "2  Spearfishing    Not stated   M  63  ...             Undetermined   \n",
            "3       Surfing   Bowie Daley   M   9  ...    Suspected Great White   \n",
            "4        Wading  Eleonora Boi   F  39  ...             Undetermined   \n",
            "\n",
            "                                              Source  pdf href formula href  \\\n",
            "0  Johannes Marchand: Kevin McMurray Trackingshar...  NaN          NaN  NaN   \n",
            "1  Bob Myatt GSAF The Guardian: 9 News: ABS News:...  NaN          NaN  NaN   \n",
            "2  Ralph Collier GSAF and Kevin MCMurray Tracking...  NaN          NaN  NaN   \n",
            "3                                     Bob Myatt GSAF  NaN          NaN  NaN   \n",
            "4         Kevin McMurray Trackingsharks.com: NY Post  NaN          NaN  NaN   \n",
            "\n",
            "  Case Number Case Number.1 original order Unnamed: 21 Unnamed: 22  \n",
            "0         NaN           NaN            NaN         NaN         NaN  \n",
            "1         NaN           NaN            NaN         NaN         NaN  \n",
            "2         NaN           NaN            NaN         NaN         NaN  \n",
            "3         NaN           NaN            NaN         NaN         NaN  \n",
            "4         NaN           NaN            NaN         NaN         NaN  \n",
            "\n",
            "[5 rows x 23 columns]\n"
          ]
        }
      ]
    },
    {
      "cell_type": "code",
      "source": [
        "# Clean the Year variable and convert it to numeric values\n",
        "shark_attack_df['Year'] = pd.to_numeric(shark_attack_df['Year'], errors='coerce')\n",
        "\n",
        "# Filter the rows to focus on attacks since 1940\n",
        "shark_attack_df = shark_attack_df[shark_attack_df['Year'] >= 1940]\n",
        "\n",
        "# Describe the year range\n",
        "range_value = shark_attack_df['Year'].describe()\n",
        "\n",
        "# Check how attacks have changed\n",
        "attacks_by_year = shark_attack_df['Year'].value_counts().sort_index()\n",
        "\n",
        "print(range_value)\n",
        "print(attacks_by_year)\n",
        "print(\"Values range from 1940 to 2026. Shark attacks have been increasing in the long-term, but in 2024-2026 there is a decline.\")"
      ],
      "metadata": {
        "colab": {
          "base_uri": "https://localhost:8080/"
        },
        "id": "45n72rul13aF",
        "outputId": "99813b48-f0d8-4d08-8fca-35379dda2c52"
      },
      "id": "45n72rul13aF",
      "execution_count": 56,
      "outputs": [
        {
          "output_type": "stream",
          "name": "stdout",
          "text": [
            "count    5507.000000\n",
            "mean     1992.225350\n",
            "std        24.169336\n",
            "min      1940.000000\n",
            "25%      1970.000000\n",
            "50%      2000.000000\n",
            "75%      2013.000000\n",
            "max      2026.000000\n",
            "Name: Year, dtype: float64\n",
            "Year\n",
            "1940.0     24\n",
            "1941.0     27\n",
            "1942.0     41\n",
            "1943.0     28\n",
            "1944.0     31\n",
            "         ... \n",
            "2022.0     98\n",
            "2023.0    109\n",
            "2024.0     52\n",
            "2025.0     48\n",
            "2026.0      1\n",
            "Name: count, Length: 87, dtype: int64\n",
            "Values range from 1940 to 2026. Shark attacks have been increasing in the long-term, but in 2024-2026 there is a decline.\n"
          ]
        }
      ]
    },
    {
      "cell_type": "code",
      "source": [
        "import matplotlib.pyplot as plt\n",
        "\n",
        "# Clean the Age variable\n",
        "shark_attack_df['Age'] = pd.to_numeric(shark_attack_df['Age'], errors='coerce')\n",
        "\n",
        "# Make a histogram of the ages of the victims\n",
        "plt.hist(shark_attack_df['Age'].dropna(), bins=20, edgecolor='black')\n",
        "plt.xlabel('Age')\n",
        "plt.ylabel('Number of Victims')\n",
        "plt.title('Histogram of Victims Ages')\n",
        "plt.show()\n"
      ],
      "metadata": {
        "colab": {
          "base_uri": "https://localhost:8080/",
          "height": 472
        },
        "id": "AZiCHHDQ8ijb",
        "outputId": "74ab4a2b-1e2e-4eb9-b94a-01ba08dd93c4"
      },
      "id": "AZiCHHDQ8ijb",
      "execution_count": 29,
      "outputs": [
        {
          "output_type": "display_data",
          "data": {
            "text/plain": [
              "<Figure size 640x480 with 1 Axes>"
            ],
            "image/png": "[encoded data removed]"
          },
          "metadata": {}
        }
      ]
    },
    {
      "cell_type": "code",
      "source": [
        "# Calculate the proportion of victims who are male\n",
        "male_proportion = shark_attack_df['Sex'].value_counts(normalize=True).get('M', 0)\n",
        "print(f\"Proportion of male victims: {male_proportion:.2f}\")"
      ],
      "metadata": {
        "colab": {
          "base_uri": "https://localhost:8080/"
        },
        "id": "orLZBqJu8_TP",
        "outputId": "3368561a-c172-476b-b29f-3780789557a6"
      },
      "id": "orLZBqJu8_TP",
      "execution_count": 30,
      "outputs": [
        {
          "output_type": "stream",
          "name": "stdout",
          "text": [
            "Proportion of male victims: 0.86\n"
          ]
        }
      ]
    },
    {
      "cell_type": "code",
      "source": [
        "# Clean the Type variable\n",
        "shark_attack_df['Type'] = shark_attack_df['Type'].str.strip().str.lower()\n",
        "\n",
        "# Replace Type with three values: Provoked and Unprovoked and Unknown\n",
        "shark_attack_df['Type'] = shark_attack_df['Type'].replace({\n",
        "    'unprovoked': 'Unprovoked',\n",
        "    'provoked': 'Provoked',\n",
        "    'questionable': 'Unknown',\n",
        "    'unverified': 'Unknown',\n",
        "    'unconfirmed': 'Unknown',\n",
        "    'watercraft': 'Unknown',\n",
        "    'sea disaster': 'Unknown',\n",
        "    'invalid': 'Unknown',\n",
        "    'under investigation': 'Unknown',\n",
        "    'boat': 'Unknown',\n",
        "    '': 'Unknown',\n",
        "    '?': 'Unknown',\n",
        "    np.nan: 'Unknown'\n",
        "})\n",
        "print(shark_attack_df['Type'].value_counts())\n",
        "\n",
        "# Calculate the proportion of attacks that are unprovoked\n",
        "unprovoked_proportion = shark_attack_df['Type'].value_counts(normalize=True).get('Unprovoked', 0)\n",
        "print(f\"Proportion of unprovoked attacks: {unprovoked_proportion:.2f}\")"
      ],
      "metadata": {
        "colab": {
          "base_uri": "https://localhost:8080/"
        },
        "id": "uTNIFgtX9JET",
        "outputId": "b3b3dbae-2536-48a3-86db-b6f15f0f4e66"
      },
      "id": "uTNIFgtX9JET",
      "execution_count": 40,
      "outputs": [
        {
          "output_type": "stream",
          "name": "stdout",
          "text": [
            "Type\n",
            "Unprovoked    4098\n",
            "unknown        889\n",
            "Provoked       520\n",
            "Name: count, dtype: int64\n",
            "Proportion of unprovoked attacks: 0.74\n"
          ]
        }
      ]
    },
    {
      "cell_type": "code",
      "source": [
        "# Clean the Fatal Y/N variable\n",
        "shark_attack_df['Fatal Y/N'] = shark_attack_df['Fatal Y/N'].str.upper().str.strip()\n",
        "\n",
        "# Replace Fatal Y/N with three values: Y, N, and Unknown\n",
        "shark_attack_df['Fatal Y/N'] = shark_attack_df['Fatal Y/N'].replace({\n",
        "    'F': 'Unknown',\n",
        "    'M': 'Unknown',\n",
        "    'Nq': 'Unknown',\n",
        "    'NQ': 'Unknown',\n",
        "    'UNKNOWN': 'Unknown',\n",
        "    np.nan: 'Unknown',\n",
        "    '': 'Unknown',\n",
        "    'Y x 2': 'Y',\n",
        "    2017: 'Unknown',\n",
        "    ' N': 'N',\n",
        "    'Y X 2': 'Y',\n",
        "})\n",
        "print(shark_attack_df['Fatal Y/N'].value_counts())"
      ],
      "metadata": {
        "colab": {
          "base_uri": "https://localhost:8080/"
        },
        "id": "6UGIKx8t-5B8",
        "outputId": "1d502c9f-3b1e-4136-847e-c4635afc2c7e"
      },
      "id": "6UGIKx8t-5B8",
      "execution_count": 39,
      "outputs": [
        {
          "output_type": "stream",
          "name": "stdout",
          "text": [
            "Fatal Y/N\n",
            "N          4221\n",
            "Y           825\n",
            "Unknown     461\n",
            "Name: count, dtype: int64\n"
          ]
        }
      ]
    },
    {
      "cell_type": "code",
      "source": [
        "# Clean the Sex column\n",
        "shark_attack_df['Sex'] = shark_attack_df['Sex'].str.upper().str.strip()\n",
        "\n",
        "# Replace values unexpected with Unknown\n",
        "shark_attack_df['Sex'] = shark_attack_df['Sex'].replace({\n",
        "    'M': 'M',\n",
        "    'F': 'F',\n",
        "    'M ': 'M',\n",
        "    'f': 'F',\n",
        "    'lli': 'Unknown',\n",
        "    'LLI': 'Unknown',\n",
        "    np.nan: 'Unknown',\n",
        "    'UNKNOWN': 'Unknown',\n",
        "    'M X 2': 'M',\n",
        "    'N': 'Unknown',\n",
        "    '.': 'Unknown',\n",
        "})\n",
        "\n",
        "# Check if sharks are more likely to launch unprovoked attacks on men or women\n",
        "unprovoked_sex = shark_attack_df[shark_attack_df['Type'] == 'Unprovoked']['Sex'].value_counts(normalize=True)\n",
        "\n",
        "# Calculate if the attack is more or less likely to be fatal when the attack is provoked or unprovoked\n",
        "fatality_type = shark_attack_df.groupby('Type')['Fatal Y/N'].value_counts(normalize=True).unstack()\n",
        "\n",
        "# Calculate if it is more or less likely to be fatal when the victim is male or female?\n",
        "fatality_by_sex = shark_attack_df.groupby('Sex')['Fatal Y/N'].value_counts(normalize=True).unstack()\n",
        "\n",
        "print(f\"Proportion of unprovoked attacks on men vs women:\\n{unprovoked_sex}\")\n",
        "print(f\"\\nFatality rate by attack type:\\n{fatality_type}\")\n",
        "print(f\"\\nFatality rate by gender:\\n{fatality_by_sex}\")\n",
        "print(\"Sharks are generally more dangerous to men and when the attack is unprovoked, but most attacks are still not fatal.\")\n",
        "print(\"It is different from my stereotype that sharks are indiscriminate killers.\")"
      ],
      "metadata": {
        "colab": {
          "base_uri": "https://localhost:8080/"
        },
        "id": "9YGvkYUD_o9u",
        "outputId": "708d7a2c-a0f1-485c-9197-40a477958680"
      },
      "id": "9YGvkYUD_o9u",
      "execution_count": 58,
      "outputs": [
        {
          "output_type": "stream",
          "name": "stdout",
          "text": [
            "Proportion of unprovoked attacks on men vs women:\n",
            "Sex\n",
            "M          0.815764\n",
            "F          0.149585\n",
            "Unknown    0.034651\n",
            "Name: proportion, dtype: float64\n",
            "\n",
            "Fatality rate by attack type:\n",
            "Fatal Y/N          N   Unknown         Y\n",
            "Type                                    \n",
            "Provoked    0.957692  0.017308  0.025000\n",
            "Unprovoked  0.819180  0.012933  0.167887\n",
            "unknown     0.411699  0.448819  0.139483\n",
            "\n",
            "Fatality rate by gender:\n",
            "Fatal Y/N         N   Unknown         Y\n",
            "Sex                                    \n",
            "F          0.794444  0.081944  0.123611\n",
            "M          0.773189  0.074527  0.152284\n",
            "Unknown    0.657837  0.174393  0.167770\n",
            "Sharks are generally more dangerous to men and when the attack is unprovoked, but most attacks are still not fatal.\n",
            "It is different from my stereotype that sharks are indiscriminate killers.\n"
          ]
        }
      ]
    },
    {
      "cell_type": "code",
      "source": [
        "# Clean the Species column\n",
        "shark_attack_df['Species '] = shark_attack_df['Species '].str.split().str[0]\n",
        "\n",
        "# Calculate the proportion of attacks appear to be by white sharks\n",
        "white_shark_proportion = shark_attack_df['Species '].value_counts(normalize=True).get('White', 0)\n",
        "\n",
        "print(f\"Proportion of attacks by white sharks: {white_shark_proportion:.2f}\")"
      ],
      "metadata": {
        "colab": {
          "base_uri": "https://localhost:8080/"
        },
        "id": "kLCdJyErB9p2",
        "outputId": "b4d2234b-fd60-43a8-a7af-ec890acc46c8"
      },
      "id": "kLCdJyErB9p2",
      "execution_count": 46,
      "outputs": [
        {
          "output_type": "stream",
          "name": "stdout",
          "text": [
            "Proportion of attacks by white sharks: 0.13\n"
          ]
        }
      ]
    }
  ],
  "metadata": {
    "colab": {
      "provenance": []
    },
    "kernelspec": {
      "display_name": "Python 3 (ipykernel)",
      "language": "python",
      "name": "python3"
    },
    "language_info": {
      "codemirror_mode": {
        "name": "ipython",
        "version": 3
      },
      "file_extension": ".py",
      "mimetype": "text/x-python",
      "name": "python",
      "nbconvert_exporter": "python",
      "pygments_lexer": "ipython3",
      "version": "3.10.18"
    }
  },
  "nbformat": 4,
  "nbformat_minor": 5
}